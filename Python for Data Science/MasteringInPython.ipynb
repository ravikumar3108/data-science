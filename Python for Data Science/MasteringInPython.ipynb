{
 "cells": [
  {
   "cell_type": "markdown",
   "id": "65d0af27-220f-488b-9675-12027a0b3ff6",
   "metadata": {},
   "source": [
    "# Python Tutuorial"
   ]
  },
  {
   "cell_type": "code",
   "execution_count": 1,
   "id": "9ed73b27-3623-47fd-92e7-49370a71aa31",
   "metadata": {},
   "outputs": [
    {
     "name": "stdout",
     "output_type": "stream",
     "text": [
      "Hello Python\n"
     ]
    }
   ],
   "source": [
    "print(\"Hello Python\")"
   ]
  },
  {
   "cell_type": "markdown",
   "id": "52f68f38-cabe-4cca-b336-b852fd25b257",
   "metadata": {},
   "source": [
    "# Variables"
   ]
  },
  {
   "cell_type": "markdown",
   "id": "de39a82a-7f0f-4d62-9322-94697c97589d",
   "metadata": {},
   "source": [
    "varibales are used to store ur data.\n"
   ]
  },
  {
   "cell_type": "markdown",
   "id": "b2bf4887-a6be-4944-a6ae-06265b4f08a3",
   "metadata": {},
   "source": [
    "Interger type"
   ]
  },
  {
   "cell_type": "code",
   "execution_count": 2,
   "id": "0accaf7d-d7c1-43e4-b7b1-f2caacf59b42",
   "metadata": {},
   "outputs": [],
   "source": [
    "x = 10 "
   ]
  },
  {
   "cell_type": "code",
   "execution_count": 3,
   "id": "f5f09c37-99a1-49e5-9e7e-22d500cde256",
   "metadata": {},
   "outputs": [
    {
     "name": "stdout",
     "output_type": "stream",
     "text": [
      "10\n"
     ]
    }
   ],
   "source": [
    "print(x)"
   ]
  },
  {
   "cell_type": "code",
   "execution_count": 4,
   "id": "361ae8ae-7281-4e0b-96be-094510f4353d",
   "metadata": {},
   "outputs": [
    {
     "name": "stdout",
     "output_type": "stream",
     "text": [
      "Variable   Type    Data/Info\n",
      "----------------------------\n",
      "x          int     10\n"
     ]
    }
   ],
   "source": [
    "%whos"
   ]
  },
  {
   "cell_type": "code",
   "execution_count": 5,
   "id": "15b69e7b-d790-4cc1-93f9-8971892cfbf6",
   "metadata": {},
   "outputs": [
    {
     "name": "stdout",
     "output_type": "stream",
     "text": [
      "<class 'int'>\n"
     ]
    }
   ],
   "source": [
    "print(type(x))"
   ]
  },
  {
   "cell_type": "markdown",
   "id": "bb2e4e84-ef32-4d27-ae29-2aaa152d1bbf",
   "metadata": {},
   "source": [
    "FLoat type Data"
   ]
  },
  {
   "cell_type": "code",
   "execution_count": 6,
   "id": "4bede5ea-8c83-4abe-ad54-274631fa9d41",
   "metadata": {},
   "outputs": [],
   "source": [
    "y = 10.07"
   ]
  },
  {
   "cell_type": "code",
   "execution_count": 7,
   "id": "8b99d0b0-93ed-4484-8d55-92e6e5b5dcf6",
   "metadata": {},
   "outputs": [
    {
     "name": "stdout",
     "output_type": "stream",
     "text": [
      "10.07\n"
     ]
    }
   ],
   "source": [
    "print(y)"
   ]
  },
  {
   "cell_type": "code",
   "execution_count": 8,
   "id": "b1198f90-0cdc-4d98-8c89-a2cc010ad57c",
   "metadata": {},
   "outputs": [
    {
     "name": "stdout",
     "output_type": "stream",
     "text": [
      "<class 'float'>\n"
     ]
    }
   ],
   "source": [
    "print(type(y))"
   ]
  },
  {
   "cell_type": "code",
   "execution_count": 9,
   "id": "812d5804-5a8b-4844-8644-335dfb6d89c8",
   "metadata": {},
   "outputs": [
    {
     "name": "stdout",
     "output_type": "stream",
     "text": [
      "Variable   Type     Data/Info\n",
      "-----------------------------\n",
      "x          int      10\n",
      "y          float    10.07\n"
     ]
    }
   ],
   "source": [
    "%whos"
   ]
  },
  {
   "cell_type": "markdown",
   "id": "8ec02e89-65c0-4705-ae93-62f74796c2e3",
   "metadata": {},
   "source": [
    "Complex data type\n"
   ]
  },
  {
   "cell_type": "code",
   "execution_count": 10,
   "id": "d30b5bf7-4bde-40f9-95d5-d99477434ab9",
   "metadata": {},
   "outputs": [],
   "source": [
    "z = 10 + 4j"
   ]
  },
  {
   "cell_type": "code",
   "execution_count": 11,
   "id": "7c178a56-9cf1-46bd-a24b-72f356d32d9b",
   "metadata": {},
   "outputs": [
    {
     "name": "stdout",
     "output_type": "stream",
     "text": [
      "<class 'complex'>\n"
     ]
    }
   ],
   "source": [
    "print(type(z))"
   ]
  },
  {
   "cell_type": "code",
   "execution_count": 12,
   "id": "5aea2764-62e6-495f-a552-9e6b0f34b018",
   "metadata": {},
   "outputs": [],
   "source": [
    "str = \"Heloo, How are you.\""
   ]
  },
  {
   "cell_type": "code",
   "execution_count": 13,
   "id": "7e5314bc-b9f2-4f9e-905a-72e092a75b4a",
   "metadata": {},
   "outputs": [
    {
     "name": "stdout",
     "output_type": "stream",
     "text": [
      "Heloo, How are you.\n"
     ]
    }
   ],
   "source": [
    "print(str)"
   ]
  },
  {
   "cell_type": "code",
   "execution_count": 14,
   "id": "f3fea9b1-f72b-4f2e-a078-b7dc7dafda4f",
   "metadata": {},
   "outputs": [
    {
     "name": "stdout",
     "output_type": "stream",
     "text": [
      "Variable   Type       Data/Info\n",
      "-------------------------------\n",
      "str        str        Heloo, How are you.\n",
      "x          int        10\n",
      "y          float      10.07\n",
      "z          complex    (10+4j)\n"
     ]
    }
   ],
   "source": [
    "%whos"
   ]
  },
  {
   "cell_type": "code",
   "execution_count": 15,
   "id": "80999b3e-eaf8-412d-b59b-9fdedc79462e",
   "metadata": {},
   "outputs": [],
   "source": [
    "a,b,c,d,e = 1,2,3,4.0,5.7"
   ]
  },
  {
   "cell_type": "code",
   "execution_count": 16,
   "id": "f81e4ade-e454-458a-8cc2-11795b8cc097",
   "metadata": {},
   "outputs": [
    {
     "name": "stdout",
     "output_type": "stream",
     "text": [
      "Variable   Type       Data/Info\n",
      "-------------------------------\n",
      "a          int        1\n",
      "b          int        2\n",
      "c          int        3\n",
      "d          float      4.0\n",
      "e          float      5.7\n",
      "str        str        Heloo, How are you.\n",
      "x          int        10\n",
      "y          float      10.07\n",
      "z          complex    (10+4j)\n"
     ]
    }
   ],
   "source": [
    "%whos"
   ]
  },
  {
   "cell_type": "markdown",
   "id": "50565f5c-a062-4566-a7fa-a3f6e85699d2",
   "metadata": {},
   "source": [
    "# Operators"
   ]
  },
  {
   "cell_type": "raw",
   "id": "240bd9fd-19c8-4317-aa19-3591a3431376",
   "metadata": {},
   "source": [
    "Operator name    Symbol \n",
    "Addition            +  \n",
    "Substration         -\n",
    "Multiplication      *\n",
    "Division            /\n",
    "Modulus              %\n",
    "Exponnetation       **\n",
    "Floor division      // "
   ]
  },
  {
   "cell_type": "code",
   "execution_count": 17,
   "id": "849146cd-b569-4d9f-b344-3f7dd5d12d4e",
   "metadata": {},
   "outputs": [
    {
     "name": "stdout",
     "output_type": "stream",
     "text": [
      "Variable   Type       Data/Info\n",
      "-------------------------------\n",
      "a          int        1\n",
      "b          int        2\n",
      "c          int        3\n",
      "d          float      4.0\n",
      "e          float      5.7\n",
      "str        str        Heloo, How are you.\n",
      "x          int        10\n",
      "y          float      10.07\n",
      "z          complex    (10+4j)\n"
     ]
    }
   ],
   "source": [
    "%whos"
   ]
  },
  {
   "cell_type": "code",
   "execution_count": 18,
   "id": "82f24687-6b11-4054-9641-96da776da97f",
   "metadata": {},
   "outputs": [],
   "source": [
    "sumOfaAndb = a + b "
   ]
  },
  {
   "cell_type": "code",
   "execution_count": 19,
   "id": "145c0772-ba59-4b8c-a4e2-236c5ab742e4",
   "metadata": {},
   "outputs": [
    {
     "name": "stdout",
     "output_type": "stream",
     "text": [
      "3\n"
     ]
    }
   ],
   "source": [
    "print(sumOfaAndb)"
   ]
  },
  {
   "cell_type": "code",
   "execution_count": 20,
   "id": "63824314-481b-4dd4-b9fe-85173b6a65a4",
   "metadata": {},
   "outputs": [],
   "source": [
    "div = 3"
   ]
  },
  {
   "cell_type": "code",
   "execution_count": 21,
   "id": "a05b4f25-f558-4576-a07e-3dba7b8dad43",
   "metadata": {},
   "outputs": [
    {
     "name": "stdout",
     "output_type": "stream",
     "text": [
      "3.3333333333333335\n"
     ]
    }
   ],
   "source": [
    "print(x / div)"
   ]
  },
  {
   "cell_type": "code",
   "execution_count": 22,
   "id": "1ffe0650-c1f6-4b97-8da5-a827766ea607",
   "metadata": {},
   "outputs": [
    {
     "name": "stdout",
     "output_type": "stream",
     "text": [
      "3\n"
     ]
    }
   ],
   "source": [
    "print(x // div)"
   ]
  },
  {
   "cell_type": "code",
   "execution_count": 23,
   "id": "3f2cf928-9aca-4c99-ab22-e85080f03cef",
   "metadata": {},
   "outputs": [
    {
     "name": "stdout",
     "output_type": "stream",
     "text": [
      "1\n"
     ]
    }
   ],
   "source": [
    "print(x % div)"
   ]
  },
  {
   "cell_type": "markdown",
   "id": "63d2c1b1-901c-46bd-a82c-e3272cabb3e1",
   "metadata": {},
   "source": [
    "x ** div x power of div"
   ]
  },
  {
   "cell_type": "code",
   "execution_count": 24,
   "id": "c3b48dc3-2656-44d7-81ae-68aee0ba06a3",
   "metadata": {},
   "outputs": [
    {
     "name": "stdout",
     "output_type": "stream",
     "text": [
      "1000\n"
     ]
    }
   ],
   "source": [
    "print(x ** div)"
   ]
  },
  {
   "cell_type": "markdown",
   "id": "1659d395-52f7-42bf-ba9d-612c9a8321af",
   "metadata": {},
   "source": []
  },
  {
   "cell_type": "markdown",
   "id": "768afb2c-7fdc-4bb6-8ac1-dd0be40c5b1e",
   "metadata": {},
   "source": [
    "# Bool and Compariosn Operators"
   ]
  },
  {
   "cell_type": "markdown",
   "id": "006638c5-f2d6-4f55-8e51-1259c41f8766",
   "metadata": {},
   "source": [
    "Operator name   symbol      \n",
    " Equal             ==\n",
    " Not equal         != \n",
    " Greater than       >\n",
    " Less than          <\n",
    " greater than or equal to - >= \n",
    " less than or equal to     <= "
   ]
  },
  {
   "cell_type": "code",
   "execution_count": 25,
   "id": "12d1f74e-bfcf-496c-9d43-36b9b3c08fb3",
   "metadata": {},
   "outputs": [
    {
     "name": "stdout",
     "output_type": "stream",
     "text": [
      "Variable     Type       Data/Info\n",
      "---------------------------------\n",
      "a            int        1\n",
      "b            int        2\n",
      "c            int        3\n",
      "d            float      4.0\n",
      "div          int        3\n",
      "e            float      5.7\n",
      "str          str        Heloo, How are you.\n",
      "sumOfaAndb   int        3\n",
      "x            int        10\n",
      "y            float      10.07\n",
      "z            complex    (10+4j)\n"
     ]
    }
   ],
   "source": [
    "%whos"
   ]
  },
  {
   "cell_type": "code",
   "execution_count": 26,
   "id": "5fd418ed-55da-4e21-9dda-4e01f78ddc72",
   "metadata": {},
   "outputs": [
    {
     "name": "stdout",
     "output_type": "stream",
     "text": [
      "False\n"
     ]
    }
   ],
   "source": [
    "print(a == b )"
   ]
  },
  {
   "cell_type": "code",
   "execution_count": 27,
   "id": "d32338d2-3625-45fa-aea8-2b04f71f52b3",
   "metadata": {},
   "outputs": [
    {
     "name": "stdout",
     "output_type": "stream",
     "text": [
      "True\n"
     ]
    }
   ],
   "source": [
    "print (a != b )"
   ]
  },
  {
   "cell_type": "markdown",
   "id": "2cbcc794-6a15-488e-a419-a677a8da9127",
   "metadata": {},
   "source": [
    "# Logical operators"
   ]
  },
  {
   "cell_type": "markdown",
   "id": "37858d31-f8eb-4ff5-953a-211fffacf347",
   "metadata": {},
   "source": [
    "1.and  Operator\n",
    "2. or Operator \n",
    "3. not operator \n",
    "\n",
    "true and true = true \n",
    "true and false = false \n",
    "false and true  = false \n",
    "false and false = false \n",
    "\n",
    "true or true = true \n",
    "true or false = true \n",
    "false or true  = true \n",
    "false or false = false \n"
   ]
  },
  {
   "cell_type": "code",
   "execution_count": 28,
   "id": "80b4e28b-5be8-414e-b578-d58d720b0281",
   "metadata": {},
   "outputs": [
    {
     "name": "stdout",
     "output_type": "stream",
     "text": [
      "Variable     Type       Data/Info\n",
      "---------------------------------\n",
      "a            int        1\n",
      "b            int        2\n",
      "c            int        3\n",
      "d            float      4.0\n",
      "div          int        3\n",
      "e            float      5.7\n",
      "str          str        Heloo, How are you.\n",
      "sumOfaAndb   int        3\n",
      "x            int        10\n",
      "y            float      10.07\n",
      "z            complex    (10+4j)\n"
     ]
    }
   ],
   "source": [
    "%whos"
   ]
  },
  {
   "cell_type": "code",
   "execution_count": 29,
   "id": "f1609226-c496-477e-ac48-c7195d0c65be",
   "metadata": {},
   "outputs": [
    {
     "name": "stdout",
     "output_type": "stream",
     "text": [
      "True\n"
     ]
    }
   ],
   "source": [
    "print(x < 20 and x > 5 )"
   ]
  },
  {
   "cell_type": "code",
   "execution_count": 30,
   "id": "8e315d63-29c4-4e2d-b806-b2e256ed20ad",
   "metadata": {},
   "outputs": [
    {
     "name": "stdout",
     "output_type": "stream",
     "text": [
      "False\n"
     ]
    }
   ],
   "source": [
    "print (x > 20 and x > 5)"
   ]
  },
  {
   "cell_type": "code",
   "execution_count": 31,
   "id": "1a2649d1-40d0-45ab-9b67-f2d1f49224f1",
   "metadata": {},
   "outputs": [
    {
     "name": "stdout",
     "output_type": "stream",
     "text": [
      "True\n"
     ]
    }
   ],
   "source": [
    "print(not(x > 20 and x > 5))"
   ]
  },
  {
   "cell_type": "markdown",
   "id": "17ed3e67-e0bb-43c7-89f4-54f2be87bd10",
   "metadata": {},
   "source": [
    "# Some useful inbuilt Functions"
   ]
  },
  {
   "cell_type": "markdown",
   "id": "863468aa-f906-41a9-9570-e008b5489215",
   "metadata": {},
   "source": [
    "round() :- function rounds the input value to a specific number to places or the nearest integer"
   ]
  },
  {
   "cell_type": "code",
   "execution_count": 32,
   "id": "4e0c79f2-e282-41a2-bc38-8925ac6186e6",
   "metadata": {},
   "outputs": [
    {
     "data": {
      "text/plain": [
       "3"
      ]
     },
     "execution_count": 32,
     "metadata": {},
     "output_type": "execute_result"
    }
   ],
   "source": [
    "round(3.4)"
   ]
  },
  {
   "cell_type": "code",
   "execution_count": 33,
   "id": "2172736f-8fc5-4df8-9077-67de2e49eedf",
   "metadata": {},
   "outputs": [
    {
     "data": {
      "text/plain": [
       "4"
      ]
     },
     "execution_count": 33,
     "metadata": {},
     "output_type": "execute_result"
    }
   ],
   "source": [
    "round(3.6)"
   ]
  },
  {
   "cell_type": "code",
   "execution_count": 34,
   "id": "540a8dcc-ab70-447b-9aa5-07721d08bd95",
   "metadata": {},
   "outputs": [
    {
     "data": {
      "text/plain": [
       "2"
      ]
     },
     "execution_count": 34,
     "metadata": {},
     "output_type": "execute_result"
    }
   ],
   "source": [
    "round(2.3356)"
   ]
  },
  {
   "cell_type": "code",
   "execution_count": 35,
   "id": "acc252bc-722f-4f36-841e-dc8ed1a91cb5",
   "metadata": {},
   "outputs": [
    {
     "data": {
      "text/plain": [
       "2.668"
      ]
     },
     "execution_count": 35,
     "metadata": {},
     "output_type": "execute_result"
    }
   ],
   "source": [
    "round(2.6678,3)"
   ]
  },
  {
   "cell_type": "markdown",
   "id": "1222f4b0-44ba-41c4-87ba-d89eea0c9132",
   "metadata": {},
   "source": [
    "divmod() :- it is ouputs the quotient and the rmainder "
   ]
  },
  {
   "cell_type": "code",
   "execution_count": 36,
   "id": "5e773e23-e1c0-4857-8449-eca5feec62b8",
   "metadata": {},
   "outputs": [
    {
     "data": {
      "text/plain": [
       "(3, 1)"
      ]
     },
     "execution_count": 36,
     "metadata": {},
     "output_type": "execute_result"
    }
   ],
   "source": [
    "divmod(10,3)"
   ]
  },
  {
   "cell_type": "code",
   "execution_count": 37,
   "id": "f74d1867-cb78-4351-8d82-276ad5fec57c",
   "metadata": {},
   "outputs": [
    {
     "data": {
      "text/plain": [
       "(9, 0)"
      ]
     },
     "execution_count": 37,
     "metadata": {},
     "output_type": "execute_result"
    }
   ],
   "source": [
    "divmod(27,3)"
   ]
  },
  {
   "cell_type": "markdown",
   "id": "3e6659c0-05eb-430a-a627-73879f68cb2a",
   "metadata": {},
   "source": [
    "isinstance() :- return True and false , "
   ]
  },
  {
   "cell_type": "code",
   "execution_count": 38,
   "id": "210a5c0e-0dc1-417a-8e38-16d86fc0c825",
   "metadata": {},
   "outputs": [
    {
     "name": "stdout",
     "output_type": "stream",
     "text": [
      "True\n"
     ]
    }
   ],
   "source": [
    "print(isinstance(2,int))"
   ]
  },
  {
   "cell_type": "code",
   "execution_count": 39,
   "id": "52164942-af2f-49eb-9de6-06263d6c7ac7",
   "metadata": {},
   "outputs": [
    {
     "name": "stdout",
     "output_type": "stream",
     "text": [
      "False\n"
     ]
    }
   ],
   "source": [
    "print(isinstance(2,float))"
   ]
  },
  {
   "cell_type": "code",
   "execution_count": 40,
   "id": "f8d557c8-5b5a-43a0-b0be-e8a936689890",
   "metadata": {},
   "outputs": [
    {
     "name": "stdout",
     "output_type": "stream",
     "text": [
      "True\n"
     ]
    }
   ],
   "source": [
    "print(isinstance(2.0,float))"
   ]
  },
  {
   "cell_type": "markdown",
   "id": "be4131ab-6fa8-40bc-b6c6-307c424c873b",
   "metadata": {},
   "source": [
    "pow(x,y)  :- x raise to the power of y\n",
    "pow(x,y,z)  :- x raise to the power of y and rmainder by z "
   ]
  },
  {
   "cell_type": "code",
   "execution_count": 41,
   "id": "64076279-b2fc-40fe-ae8a-990ea2c53530",
   "metadata": {},
   "outputs": [
    {
     "data": {
      "text/plain": [
       "\u001b[1;31mSignature:\u001b[0m \u001b[0mpow\u001b[0m\u001b[1;33m(\u001b[0m\u001b[0mbase\u001b[0m\u001b[1;33m,\u001b[0m \u001b[0mexp\u001b[0m\u001b[1;33m,\u001b[0m \u001b[0mmod\u001b[0m\u001b[1;33m=\u001b[0m\u001b[1;32mNone\u001b[0m\u001b[1;33m)\u001b[0m\u001b[1;33m\u001b[0m\u001b[1;33m\u001b[0m\u001b[0m\n",
       "\u001b[1;31mDocstring:\u001b[0m\n",
       "Equivalent to base**exp with 2 arguments or base**exp % mod with 3 arguments\n",
       "\n",
       "Some types, such as ints, are able to use a more efficient algorithm when\n",
       "invoked using the three argument form.\n",
       "\u001b[1;31mType:\u001b[0m      builtin_function_or_method"
      ]
     },
     "metadata": {},
     "output_type": "display_data"
    }
   ],
   "source": [
    "pow?"
   ]
  },
  {
   "cell_type": "code",
   "execution_count": 42,
   "id": "c9f8291c-d0f4-4c76-9540-1a16f1808733",
   "metadata": {},
   "outputs": [
    {
     "data": {
      "text/plain": [
       "16"
      ]
     },
     "execution_count": 42,
     "metadata": {},
     "output_type": "execute_result"
    }
   ],
   "source": [
    "pow(2,4)"
   ]
  },
  {
   "cell_type": "code",
   "execution_count": 43,
   "id": "deab034f-e72c-44b5-af2d-66e8b19ff23e",
   "metadata": {},
   "outputs": [
    {
     "data": {
      "text/plain": [
       "16"
      ]
     },
     "execution_count": 43,
     "metadata": {},
     "output_type": "execute_result"
    }
   ],
   "source": [
    "2**4\n"
   ]
  },
  {
   "cell_type": "code",
   "execution_count": 44,
   "id": "543cf279-b681-4a5a-a090-6d6c95c6358c",
   "metadata": {},
   "outputs": [
    {
     "data": {
      "text/plain": [
       "1"
      ]
     },
     "execution_count": 44,
     "metadata": {},
     "output_type": "execute_result"
    }
   ],
   "source": [
    "pow(2,4,3)"
   ]
  },
  {
   "cell_type": "markdown",
   "id": "3f8b9034-9116-48ec-b637-49646b1b1fd4",
   "metadata": {},
   "source": [
    "# Control Flow and conditions"
   ]
  },
  {
   "cell_type": "code",
   "execution_count": 1,
   "id": "25d2afec-972e-4384-aee6-d574783d5caa",
   "metadata": {},
   "outputs": [
    {
     "name": "stdin",
     "output_type": "stream",
     "text": [
      "Enter a number 23\n"
     ]
    }
   ],
   "source": [
    "ab = input(\"Enter a number\")"
   ]
  },
  {
   "cell_type": "code",
   "execution_count": 2,
   "id": "04c1c3af-9819-4006-af5c-6488ec600e17",
   "metadata": {},
   "outputs": [
    {
     "name": "stdout",
     "output_type": "stream",
     "text": [
      "23\n"
     ]
    }
   ],
   "source": [
    "print(ab)"
   ]
  },
  {
   "cell_type": "code",
   "execution_count": 3,
   "id": "80beb726-2a7e-4fa9-8085-06daed8f9cd2",
   "metadata": {},
   "outputs": [
    {
     "name": "stdout",
     "output_type": "stream",
     "text": [
      "<class 'str'>\n"
     ]
    }
   ],
   "source": [
    "print(type(ab))"
   ]
  },
  {
   "cell_type": "code",
   "execution_count": 6,
   "id": "ed53a7b5-c054-454d-b141-bcc2adcf0a3b",
   "metadata": {},
   "outputs": [],
   "source": [
    "ab = int(ab)"
   ]
  },
  {
   "cell_type": "code",
   "execution_count": 7,
   "id": "37d98cfb-64e5-49f4-9159-16e5caa45ad4",
   "metadata": {},
   "outputs": [
    {
     "name": "stdout",
     "output_type": "stream",
     "text": [
      "<class 'int'>\n"
     ]
    }
   ],
   "source": [
    "print(type(ab))"
   ]
  },
  {
   "cell_type": "code",
   "execution_count": null,
   "id": "9f866d27-a93a-477e-982a-09e62aedd099",
   "metadata": {},
   "outputs": [],
   "source": [
    "\n"
   ]
  },
  {
   "cell_type": "code",
   "execution_count": 14,
   "id": "fa46c560-40d8-4e2e-b922-645b409ca3a8",
   "metadata": {},
   "outputs": [],
   "source": [
    "num1 = 30 \n",
    "num2 = 20"
   ]
  },
  {
   "cell_type": "code",
   "execution_count": 15,
   "id": "60d777c2-31f5-4169-9181-cda0a05565c3",
   "metadata": {},
   "outputs": [
    {
     "name": "stdout",
     "output_type": "stream",
     "text": [
      "num1 is greater\n",
      "inside the if statement\n",
      "outside the if statement\n"
     ]
    }
   ],
   "source": [
    "if num1 > num2 :\n",
    "    print(\"num1 is greater\");\n",
    "    print(\"inside the if statement\")\n",
    "\n",
    "print(\"outside the if statement\")    "
   ]
  },
  {
   "cell_type": "markdown",
   "id": "cf065c42-1638-4779-8a74-b83b825f43a3",
   "metadata": {},
   "source": [
    "Find out the Which number is greater..\n"
   ]
  },
  {
   "cell_type": "code",
   "execution_count": 17,
   "id": "4e160930-513e-4e78-a0c9-6248cbfd226d",
   "metadata": {},
   "outputs": [
    {
     "name": "stdin",
     "output_type": "stream",
     "text": [
      "enter your first number 23\n",
      "enter your Second number 34\n"
     ]
    },
    {
     "name": "stdout",
     "output_type": "stream",
     "text": [
      "34\n",
      "num4 is graeter than num3\n"
     ]
    }
   ],
   "source": [
    "num3 = int(input(\"enter your first number\"));\n",
    "num4 = int(input(\"enter your Second number\"));\n",
    "\n",
    "if num3 > num4 :\n",
    "    print(\"num3 is greater than num4\")\n",
    "    print(num3)\n",
    "else :\n",
    "    print(num4)\n",
    "    print(\"num4 is graeter than num3\")\n",
    "          \n"
   ]
  },
  {
   "cell_type": "code",
   "execution_count": null,
   "id": "c1b7c464-49a8-4441-9c0e-908572b4475d",
   "metadata": {},
   "outputs": [],
   "source": [
    "\n"
   ]
  },
  {
   "cell_type": "markdown",
   "id": "add5ca3b-365a-418b-b4b4-50c9fdc3ca1b",
   "metadata": {},
   "source": [
    "# if else and else if"
   ]
  },
  {
   "cell_type": "code",
   "execution_count": 24,
   "id": "9a5cbd91-fbe5-4af3-9bea-2e940a237e28",
   "metadata": {},
   "outputs": [],
   "source": [
    "b = 200\n",
    "a = 20\n"
   ]
  },
  {
   "cell_type": "code",
   "execution_count": 25,
   "id": "c2082a39-135e-405f-afe5-643a71864e0e",
   "metadata": {},
   "outputs": [
    {
     "name": "stdout",
     "output_type": "stream",
     "text": [
      "b is greater than a \n"
     ]
    }
   ],
   "source": [
    "if b == a:\n",
    "    print(\" b is equal to a\")\n",
    "\n",
    "elif b > a:\n",
    "    print(\"b is greater than a \")\n",
    "\n",
    "elif b < a:\n",
    "    print(\"a is greater than b \")\n",
    "\n",
    "else:\n",
    "    print(b)"
   ]
  },
  {
   "cell_type": "code",
   "execution_count": null,
   "id": "9c11b5aa-4479-4467-813b-fdab887bcd1e",
   "metadata": {},
   "outputs": [],
   "source": []
  }
 ],
 "metadata": {
  "kernelspec": {
   "display_name": "Python 3 (ipykernel)",
   "language": "python",
   "name": "python3"
  },
  "language_info": {
   "codemirror_mode": {
    "name": "ipython",
    "version": 3
   },
   "file_extension": ".py",
   "mimetype": "text/x-python",
   "name": "python",
   "nbconvert_exporter": "python",
   "pygments_lexer": "ipython3",
   "version": "3.13.1"
  }
 },
 "nbformat": 4,
 "nbformat_minor": 5
}
