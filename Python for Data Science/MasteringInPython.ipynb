{
 "cells": [
  {
   "cell_type": "markdown",
   "id": "65d0af27-220f-488b-9675-12027a0b3ff6",
   "metadata": {},
   "source": [
    "# Python Tutuorial"
   ]
  },
  {
   "cell_type": "code",
   "execution_count": 4,
   "id": "9ed73b27-3623-47fd-92e7-49370a71aa31",
   "metadata": {},
   "outputs": [
    {
     "name": "stdout",
     "output_type": "stream",
     "text": [
      "Hello Python\n"
     ]
    }
   ],
   "source": [
    "print(\"Hello Python\")"
   ]
  },
  {
   "cell_type": "markdown",
   "id": "52f68f38-cabe-4cca-b336-b852fd25b257",
   "metadata": {},
   "source": [
    "# Variables"
   ]
  },
  {
   "cell_type": "markdown",
   "id": "de39a82a-7f0f-4d62-9322-94697c97589d",
   "metadata": {},
   "source": [
    "varibales are used to store ur data.\n"
   ]
  },
  {
   "cell_type": "markdown",
   "id": "b2bf4887-a6be-4944-a6ae-06265b4f08a3",
   "metadata": {},
   "source": [
    "Interger type"
   ]
  },
  {
   "cell_type": "code",
   "execution_count": 9,
   "id": "0accaf7d-d7c1-43e4-b7b1-f2caacf59b42",
   "metadata": {},
   "outputs": [],
   "source": [
    "x = 10 "
   ]
  },
  {
   "cell_type": "code",
   "execution_count": 10,
   "id": "f5f09c37-99a1-49e5-9e7e-22d500cde256",
   "metadata": {},
   "outputs": [
    {
     "name": "stdout",
     "output_type": "stream",
     "text": [
      "10\n"
     ]
    }
   ],
   "source": [
    "print(x)"
   ]
  },
  {
   "cell_type": "code",
   "execution_count": 11,
   "id": "361ae8ae-7281-4e0b-96be-094510f4353d",
   "metadata": {},
   "outputs": [
    {
     "name": "stdout",
     "output_type": "stream",
     "text": [
      "Variable   Type    Data/Info\n",
      "----------------------------\n",
      "x          int     10\n"
     ]
    }
   ],
   "source": [
    "%whos"
   ]
  },
  {
   "cell_type": "code",
   "execution_count": 12,
   "id": "15b69e7b-d790-4cc1-93f9-8971892cfbf6",
   "metadata": {},
   "outputs": [
    {
     "name": "stdout",
     "output_type": "stream",
     "text": [
      "<class 'int'>\n"
     ]
    }
   ],
   "source": [
    "print(type(x))"
   ]
  },
  {
   "cell_type": "markdown",
   "id": "bb2e4e84-ef32-4d27-ae29-2aaa152d1bbf",
   "metadata": {},
   "source": [
    "FLoat type Data"
   ]
  },
  {
   "cell_type": "code",
   "execution_count": 13,
   "id": "4bede5ea-8c83-4abe-ad54-274631fa9d41",
   "metadata": {},
   "outputs": [],
   "source": [
    "y = 10.07"
   ]
  },
  {
   "cell_type": "code",
   "execution_count": 14,
   "id": "8b99d0b0-93ed-4484-8d55-92e6e5b5dcf6",
   "metadata": {},
   "outputs": [
    {
     "name": "stdout",
     "output_type": "stream",
     "text": [
      "10.07\n"
     ]
    }
   ],
   "source": [
    "print(y)"
   ]
  },
  {
   "cell_type": "code",
   "execution_count": 15,
   "id": "b1198f90-0cdc-4d98-8c89-a2cc010ad57c",
   "metadata": {},
   "outputs": [
    {
     "name": "stdout",
     "output_type": "stream",
     "text": [
      "<class 'float'>\n"
     ]
    }
   ],
   "source": [
    "print(type(y))"
   ]
  },
  {
   "cell_type": "code",
   "execution_count": 16,
   "id": "812d5804-5a8b-4844-8644-335dfb6d89c8",
   "metadata": {},
   "outputs": [
    {
     "name": "stdout",
     "output_type": "stream",
     "text": [
      "Variable   Type     Data/Info\n",
      "-----------------------------\n",
      "x          int      10\n",
      "y          float    10.07\n"
     ]
    }
   ],
   "source": [
    "%whos"
   ]
  },
  {
   "cell_type": "markdown",
   "id": "8ec02e89-65c0-4705-ae93-62f74796c2e3",
   "metadata": {},
   "source": [
    "Complex data type\n"
   ]
  },
  {
   "cell_type": "code",
   "execution_count": 17,
   "id": "d30b5bf7-4bde-40f9-95d5-d99477434ab9",
   "metadata": {},
   "outputs": [],
   "source": [
    "z = 10 + 4j"
   ]
  },
  {
   "cell_type": "code",
   "execution_count": 18,
   "id": "7c178a56-9cf1-46bd-a24b-72f356d32d9b",
   "metadata": {},
   "outputs": [
    {
     "name": "stdout",
     "output_type": "stream",
     "text": [
      "<class 'complex'>\n"
     ]
    }
   ],
   "source": [
    "print(type(z))"
   ]
  },
  {
   "cell_type": "code",
   "execution_count": 19,
   "id": "5aea2764-62e6-495f-a552-9e6b0f34b018",
   "metadata": {},
   "outputs": [],
   "source": [
    "str = \"Heloo, How are you.\""
   ]
  },
  {
   "cell_type": "code",
   "execution_count": 20,
   "id": "7e5314bc-b9f2-4f9e-905a-72e092a75b4a",
   "metadata": {},
   "outputs": [
    {
     "name": "stdout",
     "output_type": "stream",
     "text": [
      "Heloo, How are you.\n"
     ]
    }
   ],
   "source": [
    "print(str)"
   ]
  },
  {
   "cell_type": "code",
   "execution_count": 21,
   "id": "f3fea9b1-f72b-4f2e-a078-b7dc7dafda4f",
   "metadata": {},
   "outputs": [
    {
     "name": "stdout",
     "output_type": "stream",
     "text": [
      "Variable   Type       Data/Info\n",
      "-------------------------------\n",
      "str        str        Heloo, How are you.\n",
      "x          int        10\n",
      "y          float      10.07\n",
      "z          complex    (10+4j)\n"
     ]
    }
   ],
   "source": [
    "%whos"
   ]
  },
  {
   "cell_type": "code",
   "execution_count": 22,
   "id": "80999b3e-eaf8-412d-b59b-9fdedc79462e",
   "metadata": {},
   "outputs": [],
   "source": [
    "a,b,c,d,e = 1,2,3,4.0,5.7"
   ]
  },
  {
   "cell_type": "code",
   "execution_count": 23,
   "id": "f81e4ade-e454-458a-8cc2-11795b8cc097",
   "metadata": {},
   "outputs": [
    {
     "name": "stdout",
     "output_type": "stream",
     "text": [
      "Variable   Type       Data/Info\n",
      "-------------------------------\n",
      "a          int        1\n",
      "b          int        2\n",
      "c          int        3\n",
      "d          float      4.0\n",
      "e          float      5.7\n",
      "str        str        Heloo, How are you.\n",
      "x          int        10\n",
      "y          float      10.07\n",
      "z          complex    (10+4j)\n"
     ]
    }
   ],
   "source": [
    "%whos"
   ]
  },
  {
   "cell_type": "code",
   "execution_count": null,
   "id": "356f2441-fcb7-420a-b6ff-80812c7225f9",
   "metadata": {},
   "outputs": [],
   "source": []
  }
 ],
 "metadata": {
  "kernelspec": {
   "display_name": "Python 3 (ipykernel)",
   "language": "python",
   "name": "python3"
  },
  "language_info": {
   "codemirror_mode": {
    "name": "ipython",
    "version": 3
   },
   "file_extension": ".py",
   "mimetype": "text/x-python",
   "name": "python",
   "nbconvert_exporter": "python",
   "pygments_lexer": "ipython3",
   "version": "3.13.1"
  }
 },
 "nbformat": 4,
 "nbformat_minor": 5
}
