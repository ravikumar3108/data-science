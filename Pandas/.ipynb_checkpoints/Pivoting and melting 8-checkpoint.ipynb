{
 "cells": [
  {
   "cell_type": "code",
   "execution_count": 5,
   "id": "dcf8feb9-75a6-4659-93fc-12443d858021",
   "metadata": {},
   "outputs": [
    {
     "name": "stdout",
     "output_type": "stream",
     "text": [
      "  keys   Names Houses Grade\n",
      "0   k1    Ravi    red   3rd\n",
      "1   k2  Sanjay  green   4th\n",
      "2   k1    Ayan    red   8th\n",
      "3   k2    Anil   blue  10th\n"
     ]
    }
   ],
   "source": [
    "import pandas as pd\n",
    "\n",
    "data = {\"keys\":[\"k1\",\"k2\",\"k1\",\"k2\"],\n",
    "        \"Names\":[\"Ravi\",\"Sanjay\",\"Ayan\",\"Anil\"],\n",
    "        \"Houses\":[\"red\",\"green\",\"red\",\"blue\"],\n",
    "        \"Grade\":[\"3rd\",\"4th\",\"8th\",\"10th\"]\n",
    "       }\n",
    "\n",
    "df1 = pd.DataFrame(data)\n",
    "print(df1)"
   ]
  },
  {
   "cell_type": "code",
   "execution_count": 6,
   "id": "2e13778d-d36b-42a4-a368-b074acf5fb99",
   "metadata": {},
   "outputs": [
    {
     "name": "stdout",
     "output_type": "stream",
     "text": [
      "Names  Anil Ayan Ravi Sanjay\n",
      "keys                        \n",
      "k1      NaN  red  red    NaN\n",
      "k2     blue  NaN  NaN  green\n",
      "      Houses                  Grade                 \n",
      "Names   Anil Ayan Ravi Sanjay  Anil Ayan Ravi Sanjay\n",
      "keys                                                \n",
      "k1       NaN  red  red    NaN   NaN  8th  3rd    NaN\n",
      "k2      blue  NaN  NaN  green  10th  NaN  NaN    4th\n"
     ]
    }
   ],
   "source": [
    "#  now pivoting our data\n",
    "# index[ndarray] : Labels to use to make new frame’s index\n",
    "# columns[ndarray] : Labels to use to make new frame’s columns\n",
    "# values[ndarray] : Values to use for populating new frame’s values\n",
    "\n",
    "print(df1.pivot(index=\"keys\",columns=\"Names\", values = \"Houses\"))\n",
    "print(df1.pivot(index=\"keys\",columns=\"Names\", values = [\"Houses\",\"Grade\"]))\n",
    "\n"
   ]
  },
  {
   "cell_type": "markdown",
   "id": "1d6d1f0d-2821-4490-baa4-2c4751ddcf22",
   "metadata": {},
   "source": [
    "# Melting"
   ]
  },
  {
   "cell_type": "code",
   "execution_count": 9,
   "id": "9dff0c9b-50be-48ef-91b3-ba2735102730",
   "metadata": {},
   "outputs": [
    {
     "name": "stdout",
     "output_type": "stream",
     "text": [
      "    Names Houses Grade\n",
      "0    Ravi    red   3rd\n",
      "1  Sanjay  green   4th\n",
      "2    Ayan    red   8th\n",
      "3    Anil   blue  10th\n"
     ]
    }
   ],
   "source": [
    "\n",
    "data = {\n",
    "        \"Names\":[\"Ravi\",\"Sanjay\",\"Ayan\",\"Anil\"],\n",
    "        \"Houses\":[\"red\",\"green\",\"red\",\"blue\"],\n",
    "    \"Grade\":[\"3rd\",\"4th\",\"8th\",\"10th\"]\n",
    "       }\n",
    "\n",
    "df = pd.DataFrame(data)\n",
    "print(df)"
   ]
  },
  {
   "cell_type": "code",
   "execution_count": 13,
   "id": "4acd2c79-4407-45a7-b47f-abe76af4afb8",
   "metadata": {},
   "outputs": [
    {
     "name": "stdout",
     "output_type": "stream",
     "text": [
      "    Names variable  value\n",
      "0    Ravi   Houses    red\n",
      "1  Sanjay   Houses  green\n",
      "2    Ayan   Houses    red\n",
      "3    Anil   Houses   blue\n",
      "4    Ravi    Grade    3rd\n",
      "5  Sanjay    Grade    4th\n",
      "6    Ayan    Grade    8th\n",
      "7    Anil    Grade   10th\n"
     ]
    }
   ],
   "source": [
    "# Syntax: pandas.melt(frame, id_vars=None, value_vars=None,\n",
    "# var_name=None, value_name=’value’, col_level=None)\n",
    "\n",
    "print(pd.melt(df,id_vars=\"Names\",value_vars=[\"Houses\",\"Grade\"]))"
   ]
  },
  {
   "cell_type": "code",
   "execution_count": null,
   "id": "1ed2ffee-15c8-488e-9050-d6e0eaf7bd02",
   "metadata": {},
   "outputs": [],
   "source": []
  }
 ],
 "metadata": {
  "kernelspec": {
   "display_name": "Python 3 (ipykernel)",
   "language": "python",
   "name": "python3"
  },
  "language_info": {
   "codemirror_mode": {
    "name": "ipython",
    "version": 3
   },
   "file_extension": ".py",
   "mimetype": "text/x-python",
   "name": "python",
   "nbconvert_exporter": "python",
   "pygments_lexer": "ipython3",
   "version": "3.13.1"
  }
 },
 "nbformat": 4,
 "nbformat_minor": 5
}
