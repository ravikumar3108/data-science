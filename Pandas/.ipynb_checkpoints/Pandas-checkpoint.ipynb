{
 "cells": [
  {
   "cell_type": "markdown",
   "id": "297df9b6-01f6-4d13-8f8a-4c15e97abecc",
   "metadata": {},
   "source": [
    "# Create a Data Frame"
   ]
  },
  {
   "cell_type": "code",
   "execution_count": 5,
   "id": "fcb2b454-7968-4f1f-89c8-af404cb018c7",
   "metadata": {},
   "outputs": [
    {
     "name": "stdout",
     "output_type": "stream",
     "text": [
      "      Name  Age  Salary\n",
      "0    Ankit   21   20000\n",
      "1  Himashu   23   22000\n",
      "2   Naveen   25   23000\n"
     ]
    }
   ],
   "source": [
    "import pandas as pd\n",
    "\n",
    "# Create the Data \n",
    "data = {\"Name\":[\"Ankit\",\"Himashu\",\"Naveen\"],\n",
    "        \"Age\":[21,23,25],\n",
    "        \"Salary\":[20000,22000,23000]\n",
    "       }\n",
    "\n",
    "#  Now creation a data frame \n",
    "\n",
    "df = pd.DataFrame(data)\n",
    "print(df)\n"
   ]
  },
  {
   "cell_type": "code",
   "execution_count": null,
   "id": "8c45968e-a3ad-450f-9366-c1fb02d6fee2",
   "metadata": {},
   "outputs": [],
   "source": []
  },
  {
   "cell_type": "markdown",
   "id": "04a96212-4b67-4fea-a9cf-6dcfc460fe7c",
   "metadata": {},
   "source": [
    "# Import data from the CSV and the Excel file \n"
   ]
  },
  {
   "cell_type": "code",
   "execution_count": 7,
   "id": "5edcf41b-e631-4c59-ad48-593cd524f66e",
   "metadata": {},
   "outputs": [
    {
     "name": "stdout",
     "output_type": "stream",
     "text": [
      "      Loan_ID  Gender Married Dependents     Education Self_Employed  \\\n",
      "0    LP001002    Male      No          0      Graduate            No   \n",
      "1    LP001003    Male     Yes          1      Graduate            No   \n",
      "2    LP001005    Male     Yes          0      Graduate           Yes   \n",
      "3    LP001006    Male     Yes          0  Not Graduate            No   \n",
      "4    LP001008    Male      No          0      Graduate            No   \n",
      "..        ...     ...     ...        ...           ...           ...   \n",
      "609  LP002978  Female      No          0      Graduate            No   \n",
      "610  LP002979    Male     Yes         3+      Graduate            No   \n",
      "611  LP002983    Male     Yes          1      Graduate            No   \n",
      "612  LP002984    Male     Yes          2      Graduate            No   \n",
      "613  LP002990  Female      No          0      Graduate           Yes   \n",
      "\n",
      "     ApplicantIncome  CoapplicantIncome  LoanAmount  Loan_Amount_Term  \\\n",
      "0               5849                0.0         NaN             360.0   \n",
      "1               4583             1508.0       128.0             360.0   \n",
      "2               3000                0.0        66.0             360.0   \n",
      "3               2583             2358.0       120.0             360.0   \n",
      "4               6000                0.0       141.0             360.0   \n",
      "..               ...                ...         ...               ...   \n",
      "609             2900                0.0        71.0             360.0   \n",
      "610             4106                0.0        40.0             180.0   \n",
      "611             8072              240.0       253.0             360.0   \n",
      "612             7583                0.0       187.0             360.0   \n",
      "613             4583                0.0       133.0             360.0   \n",
      "\n",
      "     Credit_History Property_Area Loan_Status  \n",
      "0               1.0         Urban           Y  \n",
      "1               1.0         Rural           N  \n",
      "2               1.0         Urban           Y  \n",
      "3               1.0         Urban           Y  \n",
      "4               1.0         Urban           Y  \n",
      "..              ...           ...         ...  \n",
      "609             1.0         Rural           Y  \n",
      "610             1.0         Rural           Y  \n",
      "611             1.0         Urban           Y  \n",
      "612             1.0         Urban           Y  \n",
      "613             0.0     Semiurban           N  \n",
      "\n",
      "[614 rows x 13 columns]\n"
     ]
    }
   ],
   "source": [
    "data = pd.read_csv(\"loan.csv\")\n",
    "print(data)"
   ]
  },
  {
   "cell_type": "code",
   "execution_count": 9,
   "id": "484f39d5-528b-4adf-8ec9-c2884f899ed5",
   "metadata": {},
   "outputs": [
    {
     "name": "stdout",
     "output_type": "stream",
     "text": [
      "  NAME OF\\nEMPLOYEE   POST  SALARY    CITY\n",
      "0              AJAY    MAN   15000    AGRA\n",
      "1             VIJAY    SUP   27000   DELHI\n",
      "2              ANIL  ASSIT   16000  JAIPUR\n",
      "3            DEEPAK    MAN   24000    AGRA\n",
      "4              RAVI  ASSIT   18000   DELHI\n",
      "5             MOHAN    SUP   24000  JAIPUR\n",
      "6             RADHA  ASSIT   15000    AGRA\n",
      "7             SUMAN    MAN   28100   DELHI\n",
      "8             GEETA  ASSIT   34000  JAIPUR\n"
     ]
    }
   ],
   "source": [
    "#  Now we can read a excel file \n",
    "# to read a excwl file we can install a package == pip install openpyxl\n",
    "\n",
    "data = pd.read_excel(\"SALARY SHEET-2024.xlsx\")\n",
    "print(data)\n",
    "\n"
   ]
  },
  {
   "cell_type": "markdown",
   "id": "6155494c-f5f1-46f6-8b73-668a60e7804d",
   "metadata": {},
   "source": [
    "# Exploring Data in Pandas"
   ]
  },
  {
   "cell_type": "code",
   "execution_count": 12,
   "id": "42b8c2ff-af22-4041-9afe-8f472a956dc3",
   "metadata": {},
   "outputs": [
    {
     "name": "stdout",
     "output_type": "stream",
     "text": [
      "    Loan_ID Gender Married Dependents     Education Self_Employed  \\\n",
      "0  LP001002   Male      No          0      Graduate            No   \n",
      "1  LP001003   Male     Yes          1      Graduate            No   \n",
      "2  LP001005   Male     Yes          0      Graduate           Yes   \n",
      "3  LP001006   Male     Yes          0  Not Graduate            No   \n",
      "4  LP001008   Male      No          0      Graduate            No   \n",
      "5  LP001011   Male     Yes          2      Graduate           Yes   \n",
      "6  LP001013   Male     Yes          0  Not Graduate            No   \n",
      "7  LP001014   Male     Yes         3+      Graduate            No   \n",
      "8  LP001018   Male     Yes          2      Graduate            No   \n",
      "9  LP001020   Male     Yes          1      Graduate            No   \n",
      "\n",
      "   ApplicantIncome  CoapplicantIncome  LoanAmount  Loan_Amount_Term  \\\n",
      "0             5849                0.0         NaN             360.0   \n",
      "1             4583             1508.0       128.0             360.0   \n",
      "2             3000                0.0        66.0             360.0   \n",
      "3             2583             2358.0       120.0             360.0   \n",
      "4             6000                0.0       141.0             360.0   \n",
      "5             5417             4196.0       267.0             360.0   \n",
      "6             2333             1516.0        95.0             360.0   \n",
      "7             3036             2504.0       158.0             360.0   \n",
      "8             4006             1526.0       168.0             360.0   \n",
      "9            12841            10968.0       349.0             360.0   \n",
      "\n",
      "   Credit_History Property_Area Loan_Status  \n",
      "0             1.0         Urban           Y  \n",
      "1             1.0         Rural           N  \n",
      "2             1.0         Urban           Y  \n",
      "3             1.0         Urban           Y  \n",
      "4             1.0         Urban           Y  \n",
      "5             1.0         Urban           Y  \n",
      "6             1.0         Urban           Y  \n",
      "7             0.0     Semiurban           N  \n",
      "8             1.0         Urban           Y  \n",
      "9             1.0     Semiurban           N  \n",
      "      Loan_ID  Gender Married Dependents     Education Self_Employed  \\\n",
      "604  LP002959  Female     Yes          1      Graduate            No   \n",
      "605  LP002960    Male     Yes          0  Not Graduate            No   \n",
      "606  LP002961    Male     Yes          1      Graduate            No   \n",
      "607  LP002964    Male     Yes          2  Not Graduate            No   \n",
      "608  LP002974    Male     Yes          0      Graduate            No   \n",
      "609  LP002978  Female      No          0      Graduate            No   \n",
      "610  LP002979    Male     Yes         3+      Graduate            No   \n",
      "611  LP002983    Male     Yes          1      Graduate            No   \n",
      "612  LP002984    Male     Yes          2      Graduate            No   \n",
      "613  LP002990  Female      No          0      Graduate           Yes   \n",
      "\n",
      "     ApplicantIncome  CoapplicantIncome  LoanAmount  Loan_Amount_Term  \\\n",
      "604            12000                0.0       496.0             360.0   \n",
      "605             2400             3800.0         NaN             180.0   \n",
      "606             3400             2500.0       173.0             360.0   \n",
      "607             3987             1411.0       157.0             360.0   \n",
      "608             3232             1950.0       108.0             360.0   \n",
      "609             2900                0.0        71.0             360.0   \n",
      "610             4106                0.0        40.0             180.0   \n",
      "611             8072              240.0       253.0             360.0   \n",
      "612             7583                0.0       187.0             360.0   \n",
      "613             4583                0.0       133.0             360.0   \n",
      "\n",
      "     Credit_History Property_Area Loan_Status  \n",
      "604             1.0     Semiurban           Y  \n",
      "605             1.0         Urban           N  \n",
      "606             1.0     Semiurban           Y  \n",
      "607             1.0         Rural           Y  \n",
      "608             1.0         Rural           Y  \n",
      "609             1.0         Rural           Y  \n",
      "610             1.0         Rural           Y  \n",
      "611             1.0         Urban           Y  \n",
      "612             1.0         Urban           Y  \n",
      "613             0.0     Semiurban           N  \n"
     ]
    }
   ],
   "source": [
    "data = pd.read_csv(\"loan.csv\")\n",
    "\n",
    "# to print value from the top \n",
    "print(data.head(10))\n",
    "\n",
    "# To print value from th bottom \n",
    "print(data.tail(10))\n",
    "\n",
    "# by default the value of head and tail funciton is 5\n"
   ]
  },
  {
   "cell_type": "code",
   "execution_count": null,
   "id": "81600d0b-381b-4a45-ac4e-c5ad01caa07c",
   "metadata": {},
   "outputs": [],
   "source": []
  }
 ],
 "metadata": {
  "kernelspec": {
   "display_name": "Python 3 (ipykernel)",
   "language": "python",
   "name": "python3"
  },
  "language_info": {
   "codemirror_mode": {
    "name": "ipython",
    "version": 3
   },
   "file_extension": ".py",
   "mimetype": "text/x-python",
   "name": "python",
   "nbconvert_exporter": "python",
   "pygments_lexer": "ipython3",
   "version": "3.13.1"
  }
 },
 "nbformat": 4,
 "nbformat_minor": 5
}
