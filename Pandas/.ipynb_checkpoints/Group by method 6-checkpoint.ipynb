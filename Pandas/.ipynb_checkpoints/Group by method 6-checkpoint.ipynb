{
 "cells": [
  {
   "cell_type": "markdown",
   "id": "e16b5d60-68c7-4592-b0f6-4c608c4f886a",
   "metadata": {},
   "source": [
    "# Summarize the data"
   ]
  },
  {
   "cell_type": "code",
   "execution_count": 2,
   "id": "2a155f6b-59f1-412f-8a3a-4b75694663f8",
   "metadata": {},
   "outputs": [
    {
     "name": "stdout",
     "output_type": "stream",
     "text": [
      "       EEID        Full Name                 Job Title  Department  \\\n",
      "0    E02387      Emily Davis                Sr. Manger          IT   \n",
      "1    E04105    Theodore Dinh       Technical Architect          IT   \n",
      "2    E02572     Luna Sanders                  Director     Finance   \n",
      "3    E02832  Penelope Jordan  Computer Systems Manager          IT   \n",
      "4    E01639        Austin Vo               Sr. Analyst     Finance   \n",
      "..      ...              ...                       ...         ...   \n",
      "995  E03094     Wesley Young               Sr. Analyst   Marketing   \n",
      "996  E01909     Lillian Khan                   Analyst     Finance   \n",
      "997  E04398      Oliver Yang                  Director   Marketing   \n",
      "998  E02521      Lily Nguyen               Sr. Analyst     Finance   \n",
      "999  E03545      Sofia Cheng            Vice President  Accounting   \n",
      "\n",
      "              Business Unit  Gender  Ethnicity  Age  Hire Date  Annual Salary  \\\n",
      "0    Research & Development  Female      Black   55 2016-04-08         141604   \n",
      "1             Manufacturing    Male      Asian   59 1997-11-29          99975   \n",
      "2       Speciality Products  Female  Caucasian   50 2006-10-26         163099   \n",
      "3             Manufacturing  Female  Caucasian   26 2019-09-27          84913   \n",
      "4             Manufacturing    Male      Asian   55 1995-11-20          95409   \n",
      "..                      ...     ...        ...  ...        ...            ...   \n",
      "995     Speciality Products    Male  Caucasian   33 2016-09-18          98427   \n",
      "996     Speciality Products  Female      Asian   44 2010-05-31          47387   \n",
      "997     Speciality Products    Male      Asian   31 2019-06-10         176710   \n",
      "998     Speciality Products  Female      Asian   33 2012-01-28          95960   \n",
      "999               Corporate  Female      Asian   63 2020-07-26         216195   \n",
      "\n",
      "     Bonus %        Country       City  Exit Date  \n",
      "0       0.15  United States    Seattle 2021-10-16  \n",
      "1       0.00          China  Chongqing        NaT  \n",
      "2       0.20  United States    Chicago        NaT  \n",
      "3       0.07  United States    Chicago        NaT  \n",
      "4       0.00  United States    Phoenix        NaT  \n",
      "..       ...            ...        ...        ...  \n",
      "995     0.00  United States   Columbus        NaT  \n",
      "996     0.00          China    Chengdu 2018-01-08  \n",
      "997     0.15  United States      Miami        NaT  \n",
      "998     0.00          China    Chengdu        NaT  \n",
      "999     0.31  United States      Miami        NaT  \n",
      "\n",
      "[1000 rows x 14 columns]\n"
     ]
    }
   ],
   "source": [
    "import pandas as pd\n",
    "\n",
    "data = pd.read_excel(\"ESD.xlsx\")\n",
    "print(data)"
   ]
  },
  {
   "cell_type": "code",
   "execution_count": 7,
   "id": "144a51f4-c064-48ef-bce4-ade2a0978e11",
   "metadata": {},
   "outputs": [
    {
     "name": "stdout",
     "output_type": "stream",
     "text": [
      "                 Gender\n",
      "Department             \n",
      "Accounting           96\n",
      "Engineering         158\n",
      "Finance             120\n",
      "Human Resources     125\n",
      "IT                  241\n",
      "Marketing           120\n",
      "Sales               140\n",
      "                                EEID\n",
      "Job Title                           \n",
      "Account Representative            21\n",
      "Analyst                           51\n",
      "Analyst II                        53\n",
      "Automation Engineer                7\n",
      "Business Partner                  19\n",
      "Cloud Infrastructure Architect    15\n",
      "Computer Systems Manager          21\n",
      "Controls Engineer                 15\n",
      "Development Engineer              19\n",
      "Director                         121\n",
      "Engineering Manager               20\n",
      "Enterprise Architect              18\n",
      "Field Engineer                    21\n",
      "HRIS Analyst                      16\n",
      "IT Coordinator                    11\n",
      "IT Systems Architect              12\n",
      "Manager                           98\n",
      "Network Administrator             10\n",
      "Network Architect                 18\n",
      "Network Engineer                   7\n",
      "Operations Engineer               12\n",
      "Quality Engineer                  20\n",
      "Service Desk Analyst              10\n",
      "Solutions Architect               15\n",
      "Sr. Account Representative         9\n",
      "Sr. Analyst                       70\n",
      "Sr. Business Partner              17\n",
      "Sr. Manger                       110\n",
      "System Administrator              15\n",
      "Systems Analyst                   15\n",
      "Technical Architect               17\n",
      "Test Engineer                     12\n",
      "Vice President                   105\n",
      "                        Gender\n",
      "Department      Gender        \n",
      "Accounting      Female      53\n",
      "                Male        43\n",
      "Engineering     Female      80\n",
      "                Male        78\n",
      "Finance         Female      69\n",
      "                Male        51\n",
      "Human Resources Female      64\n",
      "                Male        61\n",
      "IT              Female     119\n",
      "                Male       122\n",
      "Marketing       Female      57\n",
      "                Male        63\n",
      "Sales           Female      76\n",
      "                Male        64\n"
     ]
    }
   ],
   "source": [
    "# to summarize the data \n",
    "# use groupby method \n",
    "# The groupby() function in Pandas involves three main steps:\n",
    "# Splitting, Applying, and Combining\n",
    "\n",
    "# Aggregation: Calculate summary statistics\n",
    "# (e.g., sum, mean, count) for each group.\n",
    "\n",
    "gp = data.groupby(\"Department\").agg({\"Gender\":\"count\"})\n",
    "print(gp)\n",
    "\n",
    "# bases on job title total employeess\n",
    "gp = data.groupby(\"Job Title\").agg({\"EEID\":\"count\"})\n",
    "print(gp)\n",
    "\n",
    "\n",
    "# now if you summarize data by \n",
    "# male and female\n",
    "gp = data.groupby([\"Department\",\"Gender\"]).agg({\"Gender\":\"count\"})\n",
    "print(gp)\n"
   ]
  },
  {
   "cell_type": "code",
   "execution_count": 8,
   "id": "07a736ad-4d37-4a38-9710-192efa56540c",
   "metadata": {},
   "outputs": [
    {
     "name": "stdout",
     "output_type": "stream",
     "text": [
      "                     Age\n",
      "Country                 \n",
      "Brazil         43.654676\n",
      "China          45.389908\n",
      "United States  44.197512\n"
     ]
    }
   ],
   "source": [
    "# find mean of the age in existed country\n",
    "\n",
    "gp1 = data.groupby(\"Country\").agg({\"Age\":\"mean\"})\n",
    "print(gp1)"
   ]
  },
  {
   "cell_type": "code",
   "execution_count": 10,
   "id": "9b082e29-a56d-41a6-9d7e-10606586c188",
   "metadata": {},
   "outputs": [
    {
     "name": "stdout",
     "output_type": "stream",
     "text": [
      "               Annual Salary\n",
      "Country                     \n",
      "Brazil         112324.834532\n",
      "China          113823.532110\n",
      "United States  113204.794712\n"
     ]
    }
   ],
   "source": [
    "gp1 = data.groupby(\"Country\").agg({\"Annual Salary\":\"mean\"})\n",
    "print(gp1)"
   ]
  },
  {
   "cell_type": "code",
   "execution_count": 12,
   "id": "1f563976-9bf1-44b7-8106-9790cea1d87c",
   "metadata": {},
   "outputs": [
    {
     "name": "stdout",
     "output_type": "stream",
     "text": [
      "               Annual Salary\n",
      "Country                     \n",
      "Brazil                258426\n",
      "China                 257194\n",
      "United States         258498\n",
      "                      Annual Salary\n",
      "Country       Gender               \n",
      "Brazil        Female         258426\n",
      "              Male           249506\n",
      "China         Female         249686\n",
      "              Male           257194\n",
      "United States Female         258498\n",
      "              Male           258081\n"
     ]
    }
   ],
   "source": [
    "# to find max salary\n",
    "gp1 = data.groupby(\"Country\").agg({\"Annual Salary\":\"max\"})\n",
    "print(gp1)\n",
    "gp1 = data.groupby([\"Country\",\"Gender\"]).agg({\"Annual Salary\":\"max\"})\n",
    "print(gp1)"
   ]
  },
  {
   "cell_type": "code",
   "execution_count": null,
   "id": "0f62d0ed-d27a-42e1-b2eb-d1d4425d4778",
   "metadata": {},
   "outputs": [],
   "source": []
  }
 ],
 "metadata": {
  "kernelspec": {
   "display_name": "Python 3 (ipykernel)",
   "language": "python",
   "name": "python3"
  },
  "language_info": {
   "codemirror_mode": {
    "name": "ipython",
    "version": 3
   },
   "file_extension": ".py",
   "mimetype": "text/x-python",
   "name": "python",
   "nbconvert_exporter": "python",
   "pygments_lexer": "ipython3",
   "version": "3.13.1"
  }
 },
 "nbformat": 4,
 "nbformat_minor": 5
}
