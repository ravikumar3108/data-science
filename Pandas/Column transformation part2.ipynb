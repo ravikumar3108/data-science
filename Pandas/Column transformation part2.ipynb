{
 "cells": [
  {
   "cell_type": "code",
   "execution_count": 5,
   "id": "def3d871-0815-4d63-91f2-0f04baccf039",
   "metadata": {},
   "outputs": [
    {
     "name": "stdout",
     "output_type": "stream",
     "text": [
      "    EEID      Name gender  salary\n",
      "0  EMP01      ravi      F   20000\n",
      "1  EMP02     rohit      M   25000\n",
      "2  EMP03  pranjali      F   27000\n",
      "3  EMP01      ravi      F   20000\n",
      "4  EMP05     rohan      M   25000\n",
      "5  EMP06     rohit      M   30000\n",
      "6  EMP02     rohit      M   25000\n",
      "    EEID      Name gender  salary   Bonus\n",
      "0  EMP01      ravi      F   20000  4000.0\n",
      "1  EMP02     rohit      M   25000  5000.0\n",
      "2  EMP03  pranjali      F   27000  5400.0\n",
      "3  EMP01      ravi      F   20000  4000.0\n",
      "4  EMP05     rohan      M   25000  5000.0\n",
      "5  EMP06     rohit      M   30000  6000.0\n",
      "6  EMP02     rohit      M   25000  5000.0\n"
     ]
    }
   ],
   "source": [
    "import pandas as pd \n",
    "\n",
    "data = pd.read_csv(\"employess_1.csv\")\n",
    "print(data)\n",
    "\n",
    "#  to find bonus on salary \n",
    "# with 20% of our income \n",
    "\n",
    "data[\"Bonus\"] = (data[\"salary\"]/100)*20\n",
    "print(data)"
   ]
  },
  {
   "cell_type": "code",
   "execution_count": 11,
   "id": "2f09bbe1-0c77-44b1-aa47-6a0a2f36f29e",
   "metadata": {},
   "outputs": [
    {
     "name": "stdout",
     "output_type": "stream",
     "text": [
      "        Days\n",
      "0     Monday\n",
      "1    Tuesday\n",
      "2  Wednesday\n",
      "3   Thursday\n",
      "        Days Short_days\n",
      "0     Monday        Mon\n",
      "1    Tuesday        Tue\n",
      "2  Wednesday        Wed\n",
      "3   Thursday        Thu\n"
     ]
    }
   ],
   "source": [
    "# Now second example \n",
    "\n",
    "data = {\"Days\":[\"Monday\",\"Tuesday\",\"Wednesday\",\"Thursday\"]}\n",
    "a = pd.DataFrame(data)\n",
    "print(a)\n",
    "\n",
    "def extract(value):\n",
    "    return value[0:3]\n",
    "\n",
    "#  now create a column \n",
    "a[\"Short_days\"] = a[\"Days\"].map(extract)\n",
    "print(a)"
   ]
  },
  {
   "cell_type": "code",
   "execution_count": null,
   "id": "630c4655-f6a6-4e5d-be51-d131568194fa",
   "metadata": {},
   "outputs": [],
   "source": [
    "\n",
    "\n"
   ]
  },
  {
   "cell_type": "code",
   "execution_count": null,
   "id": "bf6b7363-06e9-472b-9565-018f0a42b88b",
   "metadata": {},
   "outputs": [],
   "source": []
  }
 ],
 "metadata": {
  "kernelspec": {
   "display_name": "Python 3 (ipykernel)",
   "language": "python",
   "name": "python3"
  },
  "language_info": {
   "codemirror_mode": {
    "name": "ipython",
    "version": 3
   },
   "file_extension": ".py",
   "mimetype": "text/x-python",
   "name": "python",
   "nbconvert_exporter": "python",
   "pygments_lexer": "ipython3",
   "version": "3.13.1"
  }
 },
 "nbformat": 4,
 "nbformat_minor": 5
}
