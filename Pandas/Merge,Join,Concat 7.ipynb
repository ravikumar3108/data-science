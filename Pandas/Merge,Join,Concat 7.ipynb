{
 "cells": [
  {
   "cell_type": "code",
   "execution_count": 6,
   "id": "884756df-1457-4cf9-a929-5473d73f7508",
   "metadata": {},
   "outputs": [
    {
     "name": "stdout",
     "output_type": "stream",
     "text": [
      "  Emp Id   Names  Age\n",
      "0    E01    Ravi   21\n",
      "1    E02   Rahul   23\n",
      "2    E03     Ram   32\n",
      "3    E04   Shyam   24\n",
      "4    E05  Sanjay   26\n",
      "5    E06    Ajay   23\n",
      "  Emp Id  Salary\n",
      "0    E01   20000\n",
      "1    E02   40000\n",
      "2    E08   30000\n",
      "3    E07   60000\n",
      "4    E05   25000\n",
      "5    E06   54000\n"
     ]
    }
   ],
   "source": [
    "import pandas as pd \n",
    "\n",
    "data1 = {\"Emp Id\":[\"E01\",\"E02\",\"E03\",\"E04\",\"E05\",\"E06\"],\n",
    "        \"Names\":[\"Ravi\",\"Rahul\",\"Ram\",\"Shyam\",\"Sanjay\",\"Ajay\"],\n",
    "         \"Age\":[21,23,32,24,26,23]\n",
    "        }\n",
    "\n",
    "data2 = {\n",
    "    \"Emp Id\":[\"E01\",\"E02\",\"E08\",\"E07\",\"E05\",\"E06\"],\n",
    "    \"Salary\":[20000,40000,30000,60000,25000,54000],\n",
    "}\n",
    "\n",
    "df1 = pd.DataFrame(data1)\n",
    "df2 = pd.DataFrame(data2)\n",
    "print(df1)\n",
    "print(df2)"
   ]
  },
  {
   "cell_type": "code",
   "execution_count": 7,
   "id": "c15e4965-cf93-4774-99ae-9d7a36af4fe7",
   "metadata": {},
   "outputs": [
    {
     "name": "stdout",
     "output_type": "stream",
     "text": [
      "  Emp Id   Names  Age  Salary\n",
      "0    E01    Ravi   21   20000\n",
      "1    E02   Rahul   23   40000\n",
      "2    E05  Sanjay   26   25000\n",
      "3    E06    Ajay   23   54000\n"
     ]
    }
   ],
   "source": [
    "\n",
    "# merge \n",
    "print(pd.merge(df1,df2,on=\"Emp Id\"))\n"
   ]
  },
  {
   "cell_type": "code",
   "execution_count": 8,
   "id": "0bdff43d-941a-4076-9930-b4a723b72a1c",
   "metadata": {},
   "outputs": [
    {
     "name": "stdout",
     "output_type": "stream",
     "text": [
      "  Emp Id   Names  Age  Salary\n",
      "0    E01    Ravi   21   20000\n",
      "1    E02   Rahul   23   40000\n",
      "2    E05  Sanjay   26   25000\n",
      "3    E06    Ajay   23   54000\n"
     ]
    }
   ],
   "source": [
    "print(pd.merge(df1,df2,on=\"Emp Id\", how=\"inner\"))"
   ]
  },
  {
   "cell_type": "code",
   "execution_count": 9,
   "id": "2e338fd1-31d5-4d99-ba82-94583f0e5ac3",
   "metadata": {},
   "outputs": [
    {
     "name": "stdout",
     "output_type": "stream",
     "text": [
      "  Emp Id   Names  Age   Salary\n",
      "0    E01    Ravi   21  20000.0\n",
      "1    E02   Rahul   23  40000.0\n",
      "2    E03     Ram   32      NaN\n",
      "3    E04   Shyam   24      NaN\n",
      "4    E05  Sanjay   26  25000.0\n",
      "5    E06    Ajay   23  54000.0\n"
     ]
    }
   ],
   "source": [
    "print(pd.merge(df1,df2,on=\"Emp Id\", how=\"left\"))"
   ]
  },
  {
   "cell_type": "code",
   "execution_count": 10,
   "id": "a6cbb5dd-16cb-4277-aab1-5274af598aa2",
   "metadata": {},
   "outputs": [
    {
     "name": "stdout",
     "output_type": "stream",
     "text": [
      "  Emp Id   Names   Age  Salary\n",
      "0    E01    Ravi  21.0   20000\n",
      "1    E02   Rahul  23.0   40000\n",
      "2    E08     NaN   NaN   30000\n",
      "3    E07     NaN   NaN   60000\n",
      "4    E05  Sanjay  26.0   25000\n",
      "5    E06    Ajay  23.0   54000\n"
     ]
    }
   ],
   "source": [
    "print(pd.merge(df1,df2,on=\"Emp Id\", how=\"right\"))"
   ]
  },
  {
   "cell_type": "code",
   "execution_count": 13,
   "id": "08c682ea-aacc-45bd-99eb-2e7e59599d82",
   "metadata": {},
   "outputs": [
    {
     "name": "stdout",
     "output_type": "stream",
     "text": [
      "  Emp Id    Names  Age\n",
      "0    E01     Ravi   21\n",
      "1    E02    Rahul   23\n",
      "2    E03      Ram   32\n",
      "3    E04    Shyam   24\n",
      "4    E05   Sanjay   26\n",
      "5    E06     Ajay   23\n",
      "0    E07     Raju   21\n",
      "1    E08   Raghav   23\n",
      "2    E09     Ramu   32\n",
      "3    E10   Shyani   24\n",
      "4    E11  Santanu   26\n",
      "5    E12     Ajay   23\n"
     ]
    }
   ],
   "source": [
    "data1 = {\"Emp Id\":[\"E01\",\"E02\",\"E03\",\"E04\",\"E05\",\"E06\"],\n",
    "        \"Names\":[\"Ravi\",\"Rahul\",\"Ram\",\"Shyam\",\"Sanjay\",\"Ajay\"],\n",
    "         \"Age\":[21,23,32,24,26,23]\n",
    "        }\n",
    "data3 = {\"Emp Id\":[\"E07\",\"E08\",\"E09\",\"E10\",\"E11\",\"E12\"],\n",
    "        \"Names\":[\"Raju\",\"Raghav\",\"Ramu\",\"Shyani\",\"Santanu\",\"Ajay\"],\n",
    "         \"Age\":[21,23,32,24,26,23]\n",
    "        }\n",
    "df1 = pd.DataFrame(data1)\n",
    "df3 = pd.DataFrame(data3)\n",
    "print(pd.concat([df1,df3]))"
   ]
  },
  {
   "cell_type": "code",
   "execution_count": null,
   "id": "e6aa70b9-2c6b-480e-903f-1240ebb62732",
   "metadata": {},
   "outputs": [],
   "source": []
  }
 ],
 "metadata": {
  "kernelspec": {
   "display_name": "Python 3 (ipykernel)",
   "language": "python",
   "name": "python3"
  },
  "language_info": {
   "codemirror_mode": {
    "name": "ipython",
    "version": 3
   },
   "file_extension": ".py",
   "mimetype": "text/x-python",
   "name": "python",
   "nbconvert_exporter": "python",
   "pygments_lexer": "ipython3",
   "version": "3.13.1"
  }
 },
 "nbformat": 4,
 "nbformat_minor": 5
}
